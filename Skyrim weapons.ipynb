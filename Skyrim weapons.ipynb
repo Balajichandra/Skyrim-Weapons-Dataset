{
 "cells": [
  {
   "cell_type": "code",
   "execution_count": 1,
   "id": "8f942f80",
   "metadata": {},
   "outputs": [],
   "source": [
    "import numpy as np\n",
    "import pandas as pd\n",
    "import matplotlib.pyplot as plt\n",
    "import seaborn as sns\n",
    "import plotly_express as px"
   ]
  },
  {
   "cell_type": "code",
   "execution_count": 2,
   "id": "29ffbad1",
   "metadata": {},
   "outputs": [
    {
     "data": {
      "text/html": [
       "<div>\n",
       "<style scoped>\n",
       "    .dataframe tbody tr th:only-of-type {\n",
       "        vertical-align: middle;\n",
       "    }\n",
       "\n",
       "    .dataframe tbody tr th {\n",
       "        vertical-align: top;\n",
       "    }\n",
       "\n",
       "    .dataframe thead th {\n",
       "        text-align: right;\n",
       "    }\n",
       "</style>\n",
       "<table border=\"1\" class=\"dataframe\">\n",
       "  <thead>\n",
       "    <tr style=\"text-align: right;\">\n",
       "      <th></th>\n",
       "      <th>Name</th>\n",
       "      <th>Damage</th>\n",
       "      <th>Weight</th>\n",
       "      <th>Gold</th>\n",
       "      <th>Upgrade</th>\n",
       "      <th>Perk</th>\n",
       "      <th>Type</th>\n",
       "      <th>Category</th>\n",
       "      <th>Speed</th>\n",
       "    </tr>\n",
       "  </thead>\n",
       "  <tbody>\n",
       "    <tr>\n",
       "      <th>0</th>\n",
       "      <td>Ancient Nord Battle Axe</td>\n",
       "      <td>18</td>\n",
       "      <td>22.0</td>\n",
       "      <td>28</td>\n",
       "      <td>Steel Ingot</td>\n",
       "      <td>Steel</td>\n",
       "      <td>Battleaxe</td>\n",
       "      <td>Two-Handed</td>\n",
       "      <td>NaN</td>\n",
       "    </tr>\n",
       "    <tr>\n",
       "      <th>1</th>\n",
       "      <td>Daedric Battleaxe</td>\n",
       "      <td>25</td>\n",
       "      <td>27.0</td>\n",
       "      <td>2750</td>\n",
       "      <td>Ebony Ingot</td>\n",
       "      <td>Daedric</td>\n",
       "      <td>Battleaxe</td>\n",
       "      <td>Two-Handed</td>\n",
       "      <td>NaN</td>\n",
       "    </tr>\n",
       "    <tr>\n",
       "      <th>2</th>\n",
       "      <td>Dragonbone Battleaxe</td>\n",
       "      <td>26</td>\n",
       "      <td>30.0</td>\n",
       "      <td>3000</td>\n",
       "      <td>Dragon Bone</td>\n",
       "      <td>Dragon</td>\n",
       "      <td>Battleaxe</td>\n",
       "      <td>Two-Handed</td>\n",
       "      <td>NaN</td>\n",
       "    </tr>\n",
       "    <tr>\n",
       "      <th>3</th>\n",
       "      <td>Drainblood Battleaxe</td>\n",
       "      <td>21</td>\n",
       "      <td>5.0</td>\n",
       "      <td>266</td>\n",
       "      <td>NaN</td>\n",
       "      <td>-</td>\n",
       "      <td>Battleaxe</td>\n",
       "      <td>Two-Handed</td>\n",
       "      <td>NaN</td>\n",
       "    </tr>\n",
       "    <tr>\n",
       "      <th>4</th>\n",
       "      <td>Dwarven Battleaxe</td>\n",
       "      <td>20</td>\n",
       "      <td>23.0</td>\n",
       "      <td>300</td>\n",
       "      <td>Dwarven Metal Ingot</td>\n",
       "      <td>Dwarven</td>\n",
       "      <td>Battleaxe</td>\n",
       "      <td>Two-Handed</td>\n",
       "      <td>NaN</td>\n",
       "    </tr>\n",
       "  </tbody>\n",
       "</table>\n",
       "</div>"
      ],
      "text/plain": [
       "                      Name  Damage  Weight  Gold              Upgrade  \\\n",
       "0  Ancient Nord Battle Axe      18    22.0    28          Steel Ingot   \n",
       "1        Daedric Battleaxe      25    27.0  2750          Ebony Ingot   \n",
       "2    Dragonbone Battleaxe       26    30.0  3000          Dragon Bone   \n",
       "3     Drainblood Battleaxe      21     5.0   266                  NaN   \n",
       "4        Dwarven Battleaxe      20    23.0   300  Dwarven Metal Ingot   \n",
       "\n",
       "      Perk       Type    Category  Speed  \n",
       "0    Steel  Battleaxe  Two-Handed    NaN  \n",
       "1  Daedric  Battleaxe  Two-Handed    NaN  \n",
       "2   Dragon  Battleaxe  Two-Handed    NaN  \n",
       "3        -  Battleaxe  Two-Handed    NaN  \n",
       "4  Dwarven  Battleaxe  Two-Handed    NaN  "
      ]
     },
     "execution_count": 2,
     "metadata": {},
     "output_type": "execute_result"
    }
   ],
   "source": [
    "data = pd.read_csv('Skyrim_Weapons.csv')\n",
    "data.head(5)"
   ]
  },
  {
   "cell_type": "code",
   "execution_count": 3,
   "id": "7899ba91",
   "metadata": {},
   "outputs": [
    {
     "data": {
      "text/plain": [
       "(293, 9)"
      ]
     },
     "execution_count": 3,
     "metadata": {},
     "output_type": "execute_result"
    }
   ],
   "source": [
    "data.shape"
   ]
  },
  {
   "cell_type": "code",
   "execution_count": 5,
   "id": "149d7c6b",
   "metadata": {},
   "outputs": [
    {
     "data": {
      "text/html": [
       "<div>\n",
       "<style scoped>\n",
       "    .dataframe tbody tr th:only-of-type {\n",
       "        vertical-align: middle;\n",
       "    }\n",
       "\n",
       "    .dataframe tbody tr th {\n",
       "        vertical-align: top;\n",
       "    }\n",
       "\n",
       "    .dataframe thead th {\n",
       "        text-align: right;\n",
       "    }\n",
       "</style>\n",
       "<table border=\"1\" class=\"dataframe\">\n",
       "  <thead>\n",
       "    <tr style=\"text-align: right;\">\n",
       "      <th></th>\n",
       "      <th>Damage</th>\n",
       "      <th>Weight</th>\n",
       "      <th>Gold</th>\n",
       "      <th>Speed</th>\n",
       "    </tr>\n",
       "  </thead>\n",
       "  <tbody>\n",
       "    <tr>\n",
       "      <th>count</th>\n",
       "      <td>293.000000</td>\n",
       "      <td>293.000000</td>\n",
       "      <td>293.000000</td>\n",
       "      <td>39.000000</td>\n",
       "    </tr>\n",
       "    <tr>\n",
       "      <th>mean</th>\n",
       "      <td>13.017065</td>\n",
       "      <td>12.590444</td>\n",
       "      <td>521.300341</td>\n",
       "      <td>0.765923</td>\n",
       "    </tr>\n",
       "    <tr>\n",
       "      <th>std</th>\n",
       "      <td>5.692736</td>\n",
       "      <td>7.649840</td>\n",
       "      <td>732.009566</td>\n",
       "      <td>0.165776</td>\n",
       "    </tr>\n",
       "    <tr>\n",
       "      <th>min</th>\n",
       "      <td>0.000000</td>\n",
       "      <td>0.000000</td>\n",
       "      <td>0.000000</td>\n",
       "      <td>0.500000</td>\n",
       "    </tr>\n",
       "    <tr>\n",
       "      <th>25%</th>\n",
       "      <td>9.000000</td>\n",
       "      <td>9.000000</td>\n",
       "      <td>45.000000</td>\n",
       "      <td>0.625000</td>\n",
       "    </tr>\n",
       "    <tr>\n",
       "      <th>50%</th>\n",
       "      <td>12.000000</td>\n",
       "      <td>12.000000</td>\n",
       "      <td>188.000000</td>\n",
       "      <td>0.750000</td>\n",
       "    </tr>\n",
       "    <tr>\n",
       "      <th>75%</th>\n",
       "      <td>17.000000</td>\n",
       "      <td>17.000000</td>\n",
       "      <td>727.000000</td>\n",
       "      <td>0.875000</td>\n",
       "    </tr>\n",
       "    <tr>\n",
       "      <th>max</th>\n",
       "      <td>28.000000</td>\n",
       "      <td>36.000000</td>\n",
       "      <td>4275.000000</td>\n",
       "      <td>1.000000</td>\n",
       "    </tr>\n",
       "  </tbody>\n",
       "</table>\n",
       "</div>"
      ],
      "text/plain": [
       "           Damage      Weight         Gold      Speed\n",
       "count  293.000000  293.000000   293.000000  39.000000\n",
       "mean    13.017065   12.590444   521.300341   0.765923\n",
       "std      5.692736    7.649840   732.009566   0.165776\n",
       "min      0.000000    0.000000     0.000000   0.500000\n",
       "25%      9.000000    9.000000    45.000000   0.625000\n",
       "50%     12.000000   12.000000   188.000000   0.750000\n",
       "75%     17.000000   17.000000   727.000000   0.875000\n",
       "max     28.000000   36.000000  4275.000000   1.000000"
      ]
     },
     "execution_count": 5,
     "metadata": {},
     "output_type": "execute_result"
    }
   ],
   "source": [
    "data.describe()"
   ]
  },
  {
   "cell_type": "code",
   "execution_count": 5,
   "id": "5d79ffeb",
   "metadata": {},
   "outputs": [
    {
     "data": {
      "text/plain": [
       "array([   nan, 0.875 , 0.937 , 1.    , 0.5   , 0.75  , 0.562 , 0.687 ,\n",
       "       0.625 , 0.6875, 0.812 , 0.5625])"
      ]
     },
     "execution_count": 5,
     "metadata": {},
     "output_type": "execute_result"
    }
   ],
   "source": [
    "data['Speed'].unique()"
   ]
  },
  {
   "cell_type": "code",
   "execution_count": 6,
   "id": "739c3cbb",
   "metadata": {},
   "outputs": [],
   "source": [
    "import missingno as msno"
   ]
  },
  {
   "cell_type": "code",
   "execution_count": 7,
   "id": "affcce89",
   "metadata": {},
   "outputs": [
    {
     "data": {
      "text/plain": [
       "<AxesSubplot:>"
      ]
     },
     "execution_count": 7,
     "metadata": {},
     "output_type": "execute_result"
    },
    {
     "data": {
      "image/png": "[encoded data removed]",
      "text/plain": [
       "<Figure size 432x216 with 3 Axes>"
      ]
     },
     "metadata": {
      "needs_background": "light"
     },
     "output_type": "display_data"
    }
   ],
   "source": [
    "msno.bar(data,figsize=(6,3),color='magenta')"
   ]
  },
  {
   "cell_type": "code",
   "execution_count": 8,
   "id": "f9610b13",
   "metadata": {},
   "outputs": [
    {
     "data": {
      "text/plain": [
       "<Figure size 1080x720 with 0 Axes>"
      ]
     },
     "metadata": {},
     "output_type": "display_data"
    },
    {
     "data": {
      "image/png": "[encoded data removed]",
      "text/plain": [
       "<Figure size 529.375x360 with 1 Axes>"
      ]
     },
     "metadata": {
      "needs_background": "light"
     },
     "output_type": "display_data"
    }
   ],
   "source": [
    "plt.figure(figsize=(15,10))\n",
    "sns.displot(data, x='Damage',bins=5, hue='Type',aspect=1.2)\n",
    "plt.title(\"Damage-wise weapons\")\n",
    "plt.show()"
   ]
  },
  {
   "cell_type": "code",
   "execution_count": 9,
   "id": "288635a0",
   "metadata": {},
   "outputs": [],
   "source": [
    "res = data[[\"Name\",\"Damage\"]].sort_values(\"Damage\",ascending=False).head(10)"
   ]
  },
  {
   "cell_type": "code",
   "execution_count": 10,
   "id": "5703688c",
   "metadata": {},
   "outputs": [
    {
     "data": {
      "text/plain": [
       "[Text(0, 0, '28'),\n",
       " Text(0, 0, '27'),\n",
       " Text(0, 0, '27'),\n",
       " Text(0, 0, '26'),\n",
       " Text(0, 0, '26'),\n",
       " Text(0, 0, '25'),\n",
       " Text(0, 0, '25'),\n",
       " Text(0, 0, '25'),\n",
       " Text(0, 0, '25'),\n",
       " Text(0, 0, '25')]"
      ]
     },
     "execution_count": 10,
     "metadata": {},
     "output_type": "execute_result"
    },
    {
     "data": {
      "image/png": "[encoded data removed]",
      "text/plain": [
       "<Figure size 504x504 with 1 Axes>"
      ]
     },
     "metadata": {
      "needs_background": "light"
     },
     "output_type": "display_data"
    }
   ],
   "source": [
    "plt.figure(figsize=(7,7))\n",
    "ax = sns.barplot(y='Name', x='Damage',\n",
    "                 data=res,\n",
    "                 errwidth=0)\n",
    "\n",
    "ax.bar_label(ax.containers[0])"
   ]
  },
  {
   "cell_type": "code",
   "execution_count": 11,
   "id": "5e0fe049",
   "metadata": {},
   "outputs": [],
   "source": [
    "powerless = data[[\"Name\",\"Damage\"]].sort_values(\"Damage\",ascending=True).head(10)"
   ]
  },
  {
   "cell_type": "code",
   "execution_count": 12,
   "id": "9f4283e9",
   "metadata": {},
   "outputs": [
    {
     "data": {
      "text/plain": [
       "[Text(0, 0, '0'),\n",
       " Text(0, 0, '1'),\n",
       " Text(0, 0, '1'),\n",
       " Text(0, 0, '1'),\n",
       " Text(0, 0, '2'),\n",
       " Text(0, 0, '2'),\n",
       " Text(0, 0, '4'),\n",
       " Text(0, 0, '4'),\n",
       " Text(0, 0, '5'),\n",
       " Text(0, 0, '5')]"
      ]
     },
     "execution_count": 12,
     "metadata": {},
     "output_type": "execute_result"
    },
    {
     "data": {
      "image/png": "[encoded data removed]",
      "text/plain": [
       "<Figure size 504x504 with 1 Axes>"
      ]
     },
     "metadata": {
      "needs_background": "light"
     },
     "output_type": "display_data"
    }
   ],
   "source": [
    "plt.figure(figsize=(7,7))\n",
    "ax = sns.barplot(y='Name', x='Damage',\n",
    "                 data=powerless,\n",
    "                 errwidth=0)\n",
    " \n",
    "plt.title(\"Power-less weapon\")\n",
    "ax.bar_label(ax.containers[0])"
   ]
  },
  {
   "cell_type": "code",
   "execution_count": 13,
   "id": "318beaea",
   "metadata": {},
   "outputs": [],
   "source": [
    "speed_weapon = data[[\"Name\",\"Damage\",\"Speed\"]].sort_values(\"Speed\",ascending=False).head(10)"
   ]
  },
  {
   "cell_type": "code",
   "execution_count": 33,
   "id": "45ddd8cf",
   "metadata": {},
   "outputs": [
    {
     "data": {
      "text/html": [
       "<div>\n",
       "<style scoped>\n",
       "    .dataframe tbody tr th:only-of-type {\n",
       "        vertical-align: middle;\n",
       "    }\n",
       "\n",
       "    .dataframe tbody tr th {\n",
       "        vertical-align: top;\n",
       "    }\n",
       "\n",
       "    .dataframe thead th {\n",
       "        text-align: right;\n",
       "    }\n",
       "</style>\n",
       "<table border=\"1\" class=\"dataframe\">\n",
       "  <thead>\n",
       "    <tr style=\"text-align: right;\">\n",
       "      <th></th>\n",
       "      <th>Name</th>\n",
       "      <th>Damage</th>\n",
       "      <th>Speed</th>\n",
       "    </tr>\n",
       "  </thead>\n",
       "  <tbody>\n",
       "    <tr>\n",
       "      <th>260</th>\n",
       "      <td>Zephyr DG</td>\n",
       "      <td>12</td>\n",
       "      <td>1.000</td>\n",
       "    </tr>\n",
       "    <tr>\n",
       "      <th>224</th>\n",
       "      <td>Auriel's Bow DG</td>\n",
       "      <td>13</td>\n",
       "      <td>1.000</td>\n",
       "    </tr>\n",
       "    <tr>\n",
       "      <th>249</th>\n",
       "      <td>Long Bow</td>\n",
       "      <td>6</td>\n",
       "      <td>1.000</td>\n",
       "    </tr>\n",
       "    <tr>\n",
       "      <th>238</th>\n",
       "      <td>Froki's Bow</td>\n",
       "      <td>6</td>\n",
       "      <td>1.000</td>\n",
       "    </tr>\n",
       "    <tr>\n",
       "      <th>225</th>\n",
       "      <td>Bow of the Hunt</td>\n",
       "      <td>10</td>\n",
       "      <td>0.937</td>\n",
       "    </tr>\n",
       "    <tr>\n",
       "      <th>229</th>\n",
       "      <td>Dravin's Bow</td>\n",
       "      <td>7</td>\n",
       "      <td>0.937</td>\n",
       "    </tr>\n",
       "    <tr>\n",
       "      <th>246</th>\n",
       "      <td>Hunting Bow</td>\n",
       "      <td>7</td>\n",
       "      <td>0.937</td>\n",
       "    </tr>\n",
       "    <tr>\n",
       "      <th>223</th>\n",
       "      <td>Angi's Bow</td>\n",
       "      <td>7</td>\n",
       "      <td>0.937</td>\n",
       "    </tr>\n",
       "    <tr>\n",
       "      <th>237</th>\n",
       "      <td>Forsworn Bow</td>\n",
       "      <td>12</td>\n",
       "      <td>0.875</td>\n",
       "    </tr>\n",
       "    <tr>\n",
       "      <th>254</th>\n",
       "      <td>Supple Ancient Nord Bow</td>\n",
       "      <td>14</td>\n",
       "      <td>0.875</td>\n",
       "    </tr>\n",
       "  </tbody>\n",
       "</table>\n",
       "</div>"
      ],
      "text/plain": [
       "                        Name  Damage  Speed\n",
       "260                Zephyr DG      12  1.000\n",
       "224          Auriel's Bow DG      13  1.000\n",
       "249                 Long Bow       6  1.000\n",
       "238              Froki's Bow       6  1.000\n",
       "225          Bow of the Hunt      10  0.937\n",
       "229             Dravin's Bow       7  0.937\n",
       "246              Hunting Bow       7  0.937\n",
       "223               Angi's Bow       7  0.937\n",
       "237             Forsworn Bow      12  0.875\n",
       "254  Supple Ancient Nord Bow      14  0.875"
      ]
     },
     "execution_count": 33,
     "metadata": {},
     "output_type": "execute_result"
    }
   ],
   "source": [
    "speed"
   ]
  },
  {
   "cell_type": "code",
   "execution_count": 14,
   "id": "180b89eb",
   "metadata": {},
   "outputs": [
    {
     "data": {
      "image/png": "[encoded data removed]",
      "text/plain": [
       "<Figure size 496.5x360 with 1 Axes>"
      ]
     },
     "metadata": {
      "needs_background": "light"
     },
     "output_type": "display_data"
    }
   ],
   "source": [
    "sns.displot(speed_weapon, x='Damage',bins=5, hue='Speed',aspect=1.2)\n",
    "plt.title(\"Fastest weapon\")\n",
    "plt.show()"
   ]
  },
  {
   "cell_type": "code",
   "execution_count": 15,
   "id": "a17bc05d",
   "metadata": {},
   "outputs": [
    {
     "data": {
      "text/plain": [
       "<AxesSubplot:xlabel='Name'>"
      ]
     },
     "execution_count": 15,
     "metadata": {},
     "output_type": "execute_result"
    },
    {
     "data": {
      "image/png": "[encoded data removed]",
      "text/plain": [
       "<Figure size 432x288 with 1 Axes>"
      ]
     },
     "metadata": {
      "needs_background": "light"
     },
     "output_type": "display_data"
    }
   ],
   "source": [
    "speed_weapon.plot(x=\"Name\", y=[\"Damage\",\"Speed\"], kind=\"bar\")"
   ]
  },
  {
   "cell_type": "code",
   "execution_count": 16,
   "id": "98759b62",
   "metadata": {},
   "outputs": [
    {
     "data": {
      "text/plain": [
       "<AxesSubplot:xlabel='Name'>"
      ]
     },
     "execution_count": 16,
     "metadata": {},
     "output_type": "execute_result"
    },
    {
     "data": {
      "image/png": "[encoded data removed]",
      "text/plain": [
       "<Figure size 432x288 with 1 Axes>"
      ]
     },
     "metadata": {
      "needs_background": "light"
     },
     "output_type": "display_data"
    }
   ],
   "source": [
    "speed_slow = data[[\"Name\",\"Damage\",\"Speed\"]].sort_values(\"Speed\",ascending=True).head(10)\n",
    "speed_slow.plot(x=\"Name\", y=[\"Damage\",\"Speed\"], kind=\"bar\")"
   ]
  },
  {
   "cell_type": "code",
   "execution_count": 29,
   "id": "67b541f3",
   "metadata": {},
   "outputs": [
    {
     "data": {
      "text/plain": [
       "<AxesSubplot:xlabel='Category'>"
      ]
     },
     "execution_count": 29,
     "metadata": {},
     "output_type": "execute_result"
    },
    {
     "data": {
      "image/png": "[encoded data removed]",
      "text/plain": [
       "<Figure size 432x288 with 1 Axes>"
      ]
     },
     "metadata": {
      "needs_background": "light"
     },
     "output_type": "display_data"
    }
   ],
   "source": [
    "cat = data[[\"Name\",\"Damage\",\"Category\"]].sort_values(\"Damage\",ascending=False).head(10)\n",
    "cat.plot(x=\"Category\", y=[\"Damage\"], kind=\"bar\")"
   ]
  },
  {
   "cell_type": "code",
   "execution_count": 42,
   "id": "250f5884",
   "metadata": {},
   "outputs": [
    {
     "data": {
      "text/plain": [
       "<AxesSubplot:xlabel='Type'>"
      ]
     },
     "execution_count": 42,
     "metadata": {},
     "output_type": "execute_result"
    },
    {
     "data": {
      "image/png": "[encoded data removed]",
      "text/plain": [
       "<Figure size 432x288 with 1 Axes>"
      ]
     },
     "metadata": {
      "needs_background": "light"
     },
     "output_type": "display_data"
    }
   ],
   "source": [
    "type = data[[\"Name\",\"Damage\",\"Type\"]].sort_values(\"Damage\",ascending=False).head(10)\n",
    "type.plot(x=\"Type\", y=[\"Damage\"], kind=\"bar\")"
   ]
  },
  {
   "cell_type": "code",
   "execution_count": 22,
   "id": "8f5e6c9b",
   "metadata": {},
   "outputs": [
    {
     "data": {
      "text/plain": [
       "<AxesSubplot:xlabel='Name'>"
      ]
     },
     "execution_count": 22,
     "metadata": {},
     "output_type": "execute_result"
    },
    {
     "data": {
      "image/png": "[encoded data removed]",
      "text/plain": [
       "<Figure size 432x288 with 1 Axes>"
      ]
     },
     "metadata": {
      "needs_background": "light"
     },
     "output_type": "display_data"
    }
   ],
   "source": [
    "Weight = data[[\"Name\",\"Damage\",\"Weight\"]].sort_values(\"Weight\",ascending=False).head(10)\n",
    "Weight.plot(x=\"Name\", y=[\"Damage\",\"Weight\"], kind=\"bar\")"
   ]
  },
  {
   "cell_type": "code",
   "execution_count": 36,
   "id": "1c33ce9d",
   "metadata": {},
   "outputs": [
    {
     "data": {
      "text/plain": [
       "<AxesSubplot:xlabel='Name'>"
      ]
     },
     "execution_count": 36,
     "metadata": {},
     "output_type": "execute_result"
    },
    {
     "data": {
      "image/png": "[encoded data removed]",
      "text/plain": [
       "<Figure size 432x288 with 1 Axes>"
      ]
     },
     "metadata": {
      "needs_background": "light"
     },
     "output_type": "display_data"
    }
   ],
   "source": [
    "gold = data[[\"Name\",\"Damage\",\"Gold\"]].sort_values(\"Gold\",ascending=False).head(10)\n",
    "gold.plot(x=\"Name\", y=[\"Damage\",\"Gold\"], kind=\"bar\")"
   ]
  },
  {
   "cell_type": "code",
   "execution_count": 32,
   "id": "7f4dfd4e",
   "metadata": {},
   "outputs": [
    {
     "data": {
      "text/plain": [
       "<AxesSubplot:xlabel='Name'>"
      ]
     },
     "execution_count": 32,
     "metadata": {},
     "output_type": "execute_result"
    },
    {
     "data": {
      "image/png": "[encoded data removed]",
      "text/plain": [
       "<Figure size 432x288 with 1 Axes>"
      ]
     },
     "metadata": {
      "needs_background": "light"
     },
     "output_type": "display_data"
    }
   ],
   "source": [
    "Weight_old = data[[\"Name\",\"Damage\",\"Weight\"]].sort_values(\"Weight\",ascending=True).head(10)\n",
    "Weight_old.plot(x=\"Name\", y=[\"Damage\",\"Weight\"], kind=\"bar\")"
   ]
  },
  {
   "cell_type": "code",
   "execution_count": 34,
   "id": "97f54244",
   "metadata": {},
   "outputs": [
    {
     "data": {
      "text/html": [
       "<div>\n",
       "<style scoped>\n",
       "    .dataframe tbody tr th:only-of-type {\n",
       "        vertical-align: middle;\n",
       "    }\n",
       "\n",
       "    .dataframe tbody tr th {\n",
       "        vertical-align: top;\n",
       "    }\n",
       "\n",
       "    .dataframe thead th {\n",
       "        text-align: right;\n",
       "    }\n",
       "</style>\n",
       "<table border=\"1\" class=\"dataframe\">\n",
       "  <thead>\n",
       "    <tr style=\"text-align: right;\">\n",
       "      <th></th>\n",
       "      <th>Name</th>\n",
       "      <th>Damage</th>\n",
       "      <th>Weight</th>\n",
       "    </tr>\n",
       "  </thead>\n",
       "  <tbody>\n",
       "    <tr>\n",
       "      <th>20</th>\n",
       "      <td>Tsun's Battleaxe</td>\n",
       "      <td>27</td>\n",
       "      <td>36.0</td>\n",
       "    </tr>\n",
       "    <tr>\n",
       "      <th>208</th>\n",
       "      <td>Dragonbone Warhammer</td>\n",
       "      <td>28</td>\n",
       "      <td>33.0</td>\n",
       "    </tr>\n",
       "    <tr>\n",
       "      <th>205</th>\n",
       "      <td>Daedric Warhammer</td>\n",
       "      <td>27</td>\n",
       "      <td>31.0</td>\n",
       "    </tr>\n",
       "    <tr>\n",
       "      <th>210</th>\n",
       "      <td>Ebony Warhammer</td>\n",
       "      <td>25</td>\n",
       "      <td>30.0</td>\n",
       "    </tr>\n",
       "    <tr>\n",
       "      <th>2</th>\n",
       "      <td>Dragonbone Battleaxe</td>\n",
       "      <td>26</td>\n",
       "      <td>30.0</td>\n",
       "    </tr>\n",
       "    <tr>\n",
       "      <th>212</th>\n",
       "      <td>Glass Warhammer</td>\n",
       "      <td>24</td>\n",
       "      <td>29.0</td>\n",
       "    </tr>\n",
       "    <tr>\n",
       "      <th>217</th>\n",
       "      <td>Stalhrim Warhammer</td>\n",
       "      <td>26</td>\n",
       "      <td>29.0</td>\n",
       "    </tr>\n",
       "    <tr>\n",
       "      <th>211</th>\n",
       "      <td>Elven Warhammer</td>\n",
       "      <td>23</td>\n",
       "      <td>28.0</td>\n",
       "    </tr>\n",
       "    <tr>\n",
       "      <th>214</th>\n",
       "      <td>Nordic Warhammer</td>\n",
       "      <td>23</td>\n",
       "      <td>27.0</td>\n",
       "    </tr>\n",
       "    <tr>\n",
       "      <th>187</th>\n",
       "      <td>Dragonbone Greatsword</td>\n",
       "      <td>25</td>\n",
       "      <td>27.0</td>\n",
       "    </tr>\n",
       "  </tbody>\n",
       "</table>\n",
       "</div>"
      ],
      "text/plain": [
       "                       Name  Damage  Weight\n",
       "20         Tsun's Battleaxe      27    36.0\n",
       "208   Dragonbone Warhammer       28    33.0\n",
       "205       Daedric Warhammer      27    31.0\n",
       "210         Ebony Warhammer      25    30.0\n",
       "2     Dragonbone Battleaxe       26    30.0\n",
       "212         Glass Warhammer      24    29.0\n",
       "217     Stalhrim Warhammer       26    29.0\n",
       "211         Elven Warhammer      23    28.0\n",
       "214       Nordic Warhammer       23    27.0\n",
       "187  Dragonbone Greatsword       25    27.0"
      ]
     },
     "execution_count": 34,
     "metadata": {},
     "output_type": "execute_result"
    }
   ],
   "source": [
    "Weight"
   ]
  },
  {
   "cell_type": "code",
   "execution_count": 37,
   "id": "7be21bc2",
   "metadata": {},
   "outputs": [
    {
     "data": {
      "text/html": [
       "<div>\n",
       "<style scoped>\n",
       "    .dataframe tbody tr th:only-of-type {\n",
       "        vertical-align: middle;\n",
       "    }\n",
       "\n",
       "    .dataframe tbody tr th {\n",
       "        vertical-align: top;\n",
       "    }\n",
       "\n",
       "    .dataframe thead th {\n",
       "        text-align: right;\n",
       "    }\n",
       "</style>\n",
       "<table border=\"1\" class=\"dataframe\">\n",
       "  <thead>\n",
       "    <tr style=\"text-align: right;\">\n",
       "      <th></th>\n",
       "      <th>Name</th>\n",
       "      <th>Damage</th>\n",
       "      <th>Gold</th>\n",
       "    </tr>\n",
       "  </thead>\n",
       "  <tbody>\n",
       "    <tr>\n",
       "      <th>208</th>\n",
       "      <td>Dragonbone Warhammer</td>\n",
       "      <td>28</td>\n",
       "      <td>4275</td>\n",
       "    </tr>\n",
       "    <tr>\n",
       "      <th>205</th>\n",
       "      <td>Daedric Warhammer</td>\n",
       "      <td>27</td>\n",
       "      <td>4000</td>\n",
       "    </tr>\n",
       "    <tr>\n",
       "      <th>259</th>\n",
       "      <td>Nightingale Bow</td>\n",
       "      <td>19</td>\n",
       "      <td>3405</td>\n",
       "    </tr>\n",
       "    <tr>\n",
       "      <th>2</th>\n",
       "      <td>Dragonbone Battleaxe</td>\n",
       "      <td>26</td>\n",
       "      <td>3000</td>\n",
       "    </tr>\n",
       "    <tr>\n",
       "      <th>217</th>\n",
       "      <td>Stalhrim Warhammer</td>\n",
       "      <td>26</td>\n",
       "      <td>2850</td>\n",
       "    </tr>\n",
       "    <tr>\n",
       "      <th>1</th>\n",
       "      <td>Daedric Battleaxe</td>\n",
       "      <td>25</td>\n",
       "      <td>2750</td>\n",
       "    </tr>\n",
       "    <tr>\n",
       "      <th>187</th>\n",
       "      <td>Dragonbone Greatsword</td>\n",
       "      <td>25</td>\n",
       "      <td>2725</td>\n",
       "    </tr>\n",
       "    <tr>\n",
       "      <th>227</th>\n",
       "      <td>Dragonbone Bow DG</td>\n",
       "      <td>20</td>\n",
       "      <td>2725</td>\n",
       "    </tr>\n",
       "    <tr>\n",
       "      <th>87</th>\n",
       "      <td>Dragonbane (Lvl 46+)</td>\n",
       "      <td>14</td>\n",
       "      <td>2596</td>\n",
       "    </tr>\n",
       "    <tr>\n",
       "      <th>186</th>\n",
       "      <td>Daedric Greatsword</td>\n",
       "      <td>24</td>\n",
       "      <td>2500</td>\n",
       "    </tr>\n",
       "  </tbody>\n",
       "</table>\n",
       "</div>"
      ],
      "text/plain": [
       "                       Name  Damage  Gold\n",
       "208   Dragonbone Warhammer       28  4275\n",
       "205       Daedric Warhammer      27  4000\n",
       "259         Nightingale Bow      19  3405\n",
       "2     Dragonbone Battleaxe       26  3000\n",
       "217     Stalhrim Warhammer       26  2850\n",
       "1         Daedric Battleaxe      25  2750\n",
       "187  Dragonbone Greatsword       25  2725\n",
       "227       Dragonbone Bow DG      20  2725\n",
       "87     Dragonbane (Lvl 46+)      14  2596\n",
       "186      Daedric Greatsword      24  2500"
      ]
     },
     "execution_count": 37,
     "metadata": {},
     "output_type": "execute_result"
    }
   ],
   "source": [
    "gold"
   ]
  },
  {
   "cell_type": "code",
   "execution_count": 38,
   "id": "115a59c7",
   "metadata": {},
   "outputs": [
    {
     "data": {
      "text/html": [
       "<div>\n",
       "<style scoped>\n",
       "    .dataframe tbody tr th:only-of-type {\n",
       "        vertical-align: middle;\n",
       "    }\n",
       "\n",
       "    .dataframe tbody tr th {\n",
       "        vertical-align: top;\n",
       "    }\n",
       "\n",
       "    .dataframe thead th {\n",
       "        text-align: right;\n",
       "    }\n",
       "</style>\n",
       "<table border=\"1\" class=\"dataframe\">\n",
       "  <thead>\n",
       "    <tr style=\"text-align: right;\">\n",
       "      <th></th>\n",
       "      <th>Name</th>\n",
       "      <th>Damage</th>\n",
       "      <th>Speed</th>\n",
       "    </tr>\n",
       "  </thead>\n",
       "  <tbody>\n",
       "    <tr>\n",
       "      <th>260</th>\n",
       "      <td>Zephyr DG</td>\n",
       "      <td>12</td>\n",
       "      <td>1.000</td>\n",
       "    </tr>\n",
       "    <tr>\n",
       "      <th>224</th>\n",
       "      <td>Auriel's Bow DG</td>\n",
       "      <td>13</td>\n",
       "      <td>1.000</td>\n",
       "    </tr>\n",
       "    <tr>\n",
       "      <th>249</th>\n",
       "      <td>Long Bow</td>\n",
       "      <td>6</td>\n",
       "      <td>1.000</td>\n",
       "    </tr>\n",
       "    <tr>\n",
       "      <th>238</th>\n",
       "      <td>Froki's Bow</td>\n",
       "      <td>6</td>\n",
       "      <td>1.000</td>\n",
       "    </tr>\n",
       "    <tr>\n",
       "      <th>225</th>\n",
       "      <td>Bow of the Hunt</td>\n",
       "      <td>10</td>\n",
       "      <td>0.937</td>\n",
       "    </tr>\n",
       "    <tr>\n",
       "      <th>229</th>\n",
       "      <td>Dravin's Bow</td>\n",
       "      <td>7</td>\n",
       "      <td>0.937</td>\n",
       "    </tr>\n",
       "    <tr>\n",
       "      <th>246</th>\n",
       "      <td>Hunting Bow</td>\n",
       "      <td>7</td>\n",
       "      <td>0.937</td>\n",
       "    </tr>\n",
       "    <tr>\n",
       "      <th>223</th>\n",
       "      <td>Angi's Bow</td>\n",
       "      <td>7</td>\n",
       "      <td>0.937</td>\n",
       "    </tr>\n",
       "    <tr>\n",
       "      <th>237</th>\n",
       "      <td>Forsworn Bow</td>\n",
       "      <td>12</td>\n",
       "      <td>0.875</td>\n",
       "    </tr>\n",
       "    <tr>\n",
       "      <th>254</th>\n",
       "      <td>Supple Ancient Nord Bow</td>\n",
       "      <td>14</td>\n",
       "      <td>0.875</td>\n",
       "    </tr>\n",
       "  </tbody>\n",
       "</table>\n",
       "</div>"
      ],
      "text/plain": [
       "                        Name  Damage  Speed\n",
       "260                Zephyr DG      12  1.000\n",
       "224          Auriel's Bow DG      13  1.000\n",
       "249                 Long Bow       6  1.000\n",
       "238              Froki's Bow       6  1.000\n",
       "225          Bow of the Hunt      10  0.937\n",
       "229             Dravin's Bow       7  0.937\n",
       "246              Hunting Bow       7  0.937\n",
       "223               Angi's Bow       7  0.937\n",
       "237             Forsworn Bow      12  0.875\n",
       "254  Supple Ancient Nord Bow      14  0.875"
      ]
     },
     "execution_count": 38,
     "metadata": {},
     "output_type": "execute_result"
    }
   ],
   "source": [
    "speed_weapon"
   ]
  },
  {
   "cell_type": "code",
   "execution_count": 39,
   "id": "7ec939be",
   "metadata": {},
   "outputs": [
    {
     "data": {
      "text/html": [
       "<div>\n",
       "<style scoped>\n",
       "    .dataframe tbody tr th:only-of-type {\n",
       "        vertical-align: middle;\n",
       "    }\n",
       "\n",
       "    .dataframe tbody tr th {\n",
       "        vertical-align: top;\n",
       "    }\n",
       "\n",
       "    .dataframe thead th {\n",
       "        text-align: right;\n",
       "    }\n",
       "</style>\n",
       "<table border=\"1\" class=\"dataframe\">\n",
       "  <thead>\n",
       "    <tr style=\"text-align: right;\">\n",
       "      <th></th>\n",
       "      <th>Name</th>\n",
       "      <th>Damage</th>\n",
       "      <th>Category</th>\n",
       "    </tr>\n",
       "  </thead>\n",
       "  <tbody>\n",
       "    <tr>\n",
       "      <th>208</th>\n",
       "      <td>Dragonbone Warhammer</td>\n",
       "      <td>28</td>\n",
       "      <td>Two-Handed</td>\n",
       "    </tr>\n",
       "    <tr>\n",
       "      <th>20</th>\n",
       "      <td>Tsun's Battleaxe</td>\n",
       "      <td>27</td>\n",
       "      <td>Two-Handed</td>\n",
       "    </tr>\n",
       "    <tr>\n",
       "      <th>205</th>\n",
       "      <td>Daedric Warhammer</td>\n",
       "      <td>27</td>\n",
       "      <td>Two-Handed</td>\n",
       "    </tr>\n",
       "    <tr>\n",
       "      <th>2</th>\n",
       "      <td>Dragonbone Battleaxe</td>\n",
       "      <td>26</td>\n",
       "      <td>Two-Handed</td>\n",
       "    </tr>\n",
       "    <tr>\n",
       "      <th>217</th>\n",
       "      <td>Stalhrim Warhammer</td>\n",
       "      <td>26</td>\n",
       "      <td>Two-Handed</td>\n",
       "    </tr>\n",
       "    <tr>\n",
       "      <th>248</th>\n",
       "      <td>Karliah's Bow</td>\n",
       "      <td>25</td>\n",
       "      <td>Archery</td>\n",
       "    </tr>\n",
       "    <tr>\n",
       "      <th>187</th>\n",
       "      <td>Dragonbone Greatsword</td>\n",
       "      <td>25</td>\n",
       "      <td>Two-Handed</td>\n",
       "    </tr>\n",
       "    <tr>\n",
       "      <th>221</th>\n",
       "      <td>Volendrung</td>\n",
       "      <td>25</td>\n",
       "      <td>Two-Handed</td>\n",
       "    </tr>\n",
       "    <tr>\n",
       "      <th>264</th>\n",
       "      <td>Dragonbone Arrow DG</td>\n",
       "      <td>25</td>\n",
       "      <td>Archery</td>\n",
       "    </tr>\n",
       "    <tr>\n",
       "      <th>210</th>\n",
       "      <td>Ebony Warhammer</td>\n",
       "      <td>25</td>\n",
       "      <td>Two-Handed</td>\n",
       "    </tr>\n",
       "  </tbody>\n",
       "</table>\n",
       "</div>"
      ],
      "text/plain": [
       "                       Name  Damage    Category\n",
       "208   Dragonbone Warhammer       28  Two-Handed\n",
       "20         Tsun's Battleaxe      27  Two-Handed\n",
       "205       Daedric Warhammer      27  Two-Handed\n",
       "2     Dragonbone Battleaxe       26  Two-Handed\n",
       "217     Stalhrim Warhammer       26  Two-Handed\n",
       "248           Karliah's Bow      25     Archery\n",
       "187  Dragonbone Greatsword       25  Two-Handed\n",
       "221              Volendrung      25  Two-Handed\n",
       "264     Dragonbone Arrow DG      25     Archery\n",
       "210         Ebony Warhammer      25  Two-Handed"
      ]
     },
     "execution_count": 39,
     "metadata": {},
     "output_type": "execute_result"
    }
   ],
   "source": [
    "cat"
   ]
  },
  {
   "cell_type": "code",
   "execution_count": 43,
   "id": "5c00c6d6",
   "metadata": {},
   "outputs": [
    {
     "data": {
      "text/html": [
       "<div>\n",
       "<style scoped>\n",
       "    .dataframe tbody tr th:only-of-type {\n",
       "        vertical-align: middle;\n",
       "    }\n",
       "\n",
       "    .dataframe tbody tr th {\n",
       "        vertical-align: top;\n",
       "    }\n",
       "\n",
       "    .dataframe thead th {\n",
       "        text-align: right;\n",
       "    }\n",
       "</style>\n",
       "<table border=\"1\" class=\"dataframe\">\n",
       "  <thead>\n",
       "    <tr style=\"text-align: right;\">\n",
       "      <th></th>\n",
       "      <th>Name</th>\n",
       "      <th>Damage</th>\n",
       "      <th>Type</th>\n",
       "    </tr>\n",
       "  </thead>\n",
       "  <tbody>\n",
       "    <tr>\n",
       "      <th>208</th>\n",
       "      <td>Dragonbone Warhammer</td>\n",
       "      <td>28</td>\n",
       "      <td>Warhammer</td>\n",
       "    </tr>\n",
       "    <tr>\n",
       "      <th>20</th>\n",
       "      <td>Tsun's Battleaxe</td>\n",
       "      <td>27</td>\n",
       "      <td>Battleaxe</td>\n",
       "    </tr>\n",
       "    <tr>\n",
       "      <th>205</th>\n",
       "      <td>Daedric Warhammer</td>\n",
       "      <td>27</td>\n",
       "      <td>Warhammer</td>\n",
       "    </tr>\n",
       "    <tr>\n",
       "      <th>2</th>\n",
       "      <td>Dragonbone Battleaxe</td>\n",
       "      <td>26</td>\n",
       "      <td>Battleaxe</td>\n",
       "    </tr>\n",
       "    <tr>\n",
       "      <th>217</th>\n",
       "      <td>Stalhrim Warhammer</td>\n",
       "      <td>26</td>\n",
       "      <td>Warhammer</td>\n",
       "    </tr>\n",
       "    <tr>\n",
       "      <th>248</th>\n",
       "      <td>Karliah's Bow</td>\n",
       "      <td>25</td>\n",
       "      <td>Bow</td>\n",
       "    </tr>\n",
       "    <tr>\n",
       "      <th>187</th>\n",
       "      <td>Dragonbone Greatsword</td>\n",
       "      <td>25</td>\n",
       "      <td>Greatsword</td>\n",
       "    </tr>\n",
       "    <tr>\n",
       "      <th>221</th>\n",
       "      <td>Volendrung</td>\n",
       "      <td>25</td>\n",
       "      <td>Warhammer</td>\n",
       "    </tr>\n",
       "    <tr>\n",
       "      <th>264</th>\n",
       "      <td>Dragonbone Arrow DG</td>\n",
       "      <td>25</td>\n",
       "      <td>Arrow</td>\n",
       "    </tr>\n",
       "    <tr>\n",
       "      <th>210</th>\n",
       "      <td>Ebony Warhammer</td>\n",
       "      <td>25</td>\n",
       "      <td>Warhammer</td>\n",
       "    </tr>\n",
       "  </tbody>\n",
       "</table>\n",
       "</div>"
      ],
      "text/plain": [
       "                       Name  Damage        Type\n",
       "208   Dragonbone Warhammer       28   Warhammer\n",
       "20         Tsun's Battleaxe      27   Battleaxe\n",
       "205       Daedric Warhammer      27   Warhammer\n",
       "2     Dragonbone Battleaxe       26   Battleaxe\n",
       "217     Stalhrim Warhammer       26   Warhammer\n",
       "248           Karliah's Bow      25         Bow\n",
       "187  Dragonbone Greatsword       25  Greatsword\n",
       "221              Volendrung      25   Warhammer\n",
       "264     Dragonbone Arrow DG      25       Arrow\n",
       "210         Ebony Warhammer      25   Warhammer"
      ]
     },
     "execution_count": 43,
     "metadata": {},
     "output_type": "execute_result"
    }
   ],
   "source": [
    "type"
   ]
  },
  {
   "cell_type": "markdown",
   "id": "5b9eefc5",
   "metadata": {},
   "source": []
  }
 ],
 "metadata": {
  "kernelspec": {
   "display_name": "Python 3",
   "language": "python",
   "name": "python3"
  },
  "language_info": {
   "codemirror_mode": {
    "name": "ipython",
    "version": 3
   },
   "file_extension": ".py",
   "mimetype": "text/x-python",
   "name": "python",
   "nbconvert_exporter": "python",
   "pygments_lexer": "ipython3",
   "version": "3.8.8"
  }
 },
 "nbformat": 4,
 "nbformat_minor": 5
}
